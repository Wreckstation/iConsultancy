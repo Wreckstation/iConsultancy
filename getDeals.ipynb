{
 "cells": [
  {
   "cell_type": "code",
   "execution_count": 1,
   "metadata": {},
   "outputs": [],
   "source": [
    "import requests\n",
    "import json\n",
    "from requests.auth import HTTPBasicAuth\n",
    "\n",
    "from iConsultancy.config import config\n",
    "from iConsultancy.to_csv import json_to_csv"
   ]
  },
  {
   "cell_type": "code",
   "execution_count": null,
   "metadata": {
    "scrolled": true
   },
   "outputs": [],
   "source": [
    "# Get requests from the server\n",
    "headers = {'Api-Token': config[\"KEY\"]}\n",
    "\n",
    "s = requests.Session()\n",
    "s.headers.update(headers)\n",
    "# TODO: have hardcoded values replaced with toggleable variables\n",
    "payload = {'filters[search_field]': 'contact', 'filters[search]': '2'}\n",
    "url = config[\"URL\"] + \"deals\"\n",
    "response = s.get(url, params=payload)\n",
    "response.close() # Close connection to server\n"
   ]
  },
  {
   "cell_type": "code",
   "execution_count": 6,
   "metadata": {
    "scrolled": true
   },
   "outputs": [
    {
     "data": {
      "text/plain": [
       "'{\"deals\":[],\"meta\":{\"currencies\":[],\"total\":0}}'"
      ]
     },
     "execution_count": 6,
     "metadata": {},
     "output_type": "execute_result"
    }
   ],
   "source": [
    "json_to_csv(response.json()) #Return JSON object to CSV"
   ]
  }
 ],
 "metadata": {
  "kernelspec": {
   "display_name": "Python 3",
   "language": "python",
   "name": "python3"
  },
  "language_info": {
   "codemirror_mode": {
    "name": "ipython",
    "version": 3
   },
   "file_extension": ".py",
   "mimetype": "text/x-python",
   "name": "python",
   "nbconvert_exporter": "python",
   "pygments_lexer": "ipython3",
   "version": "3.8.0"
  }
 },
 "nbformat": 4,
 "nbformat_minor": 4
}
