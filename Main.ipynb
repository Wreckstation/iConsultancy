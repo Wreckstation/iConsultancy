{
 "cells": [
  {
   "cell_type": "code",
   "execution_count": 1,
   "metadata": {},
   "outputs": [],
   "source": [
    "# importation of iConsultancy folder with a button widget to handle mouse clicks.\n",
    "# This automatically builds the UI controls for exploring code and data interactively.\n",
    "import iConsultancy.widgets as w"
   ]
  },
  {
   "cell_type": "markdown",
   "metadata": {},
   "source": [
    "# UMD iConsultancy ActiveCampaign API Deals Extractor UI\n",
    "\n",
    "The user interface (UI) functions by implementing code written with ActiveCampaign's API features to export data from iConsultancy ActiveCampaign Deals, which iConsultancy uses to store information on potential project leads and current semester projects. Each button of the UI can be manipulated interactively, where a function will be called based by the criteria chosen, resulting in specified data for output. Based on the input criteria selected by the user, the UI will create queries to extract the data from iConsultancy's ActiveCampaign Deals pipeline and output the data into a comma-separated value (.CSV) fileformat. This will allow iConsultancy user's the ability to keep track of the information and the current state of a project charter efficiently. With the UI, user's will also be able to extract data at any time.\n",
    "\n",
    "## UI Control Button Manual\n",
    "\n",
    "There are various interactive buttons that can be controlled to compile the data for a desired .CSV output.\n",
    "The following is a list of each button, where each UI control is defined along with what they filter by and the criteria options that are available:\n",
    "- **Search** : drop down button that filters projects based on All, Title, Contacts, and Organization.\n",
    "    - All: occurs by default and filters for all the projects within the Deals pipeline.\n",
    "    - Title: filters by the title of the project.\n",
    "    - Contacts: filters projects by the first name of the primary contact name of the project.\n",
    "    - Organization: filters projects by the name of the primary contact organization of the project.\n",
    "- **Search here** : text input button that will search for and filter projects based specified key input of the following search field options:\n",
    "    - search field options: Title, Contacts, and Organization.\n",
    "- **Status**: drop down button that filters projects based on the deal's status.\n",
    "    - Any: occurs by default and filters for projects regardless of their project status.\n",
    "    - Open: current projects in progress.\n",
    "    - Won: projects that have been successfully completed and closed.\n",
    "    - Lost: projects that are incomplete and closed.\n",
    "    \n",
    "- **Deal Stage**: text input button that filters projects based on its stage within the Deals pipeline.\n",
    "    - Default is blank. Input here the name of the deal stage of the projects you wish to filter by.\n",
    "        - Deal Stage Options: Identify, Qualify, Pursue, Materialize, Capture, Work in Process, Close.\n",
    "        \n",
    "- **Owner**: text input button that filters projects based on the name of the individual who owns the deal.\n",
    "    - Default is blank. Input here the name of the owner of the projects you wish to filter by.\n",
    "    \n",
    "- **Tag Name**: text input button that filters projects based on its tag name within the Deals pipeline associated with the deal's primary contact.\n",
    "    - Default is blank. Input here the tag name you wish to filter projects by.\n",
    "    \n",
    "- **Next Date**: drop down button that filters tasks based on a deal's tasks due dates.\n",
    "    - Any: occurs by default; orders projects based by deal's next task's due date first. Then append projects with no next task. Lastly append projects with overdue tasks. If dates are the same, it will order by project's deal id.\n",
    "    - Upcoming: orders projects with next task's date. If dates are the same, it will order by project's deal id.\n",
    "    - Scheduled: orders projects with scheduled task dates. If dates are the same, it will order by project's deal id.\n",
    "    - Overdue: orders projects with tasks that have dates that have past and are overdue. If dates are the same, it will order by project's deal id.\n",
    "    - No tasks: orders projects with no scheduled or upcoming tasks.\n",
    "    \n",
    "- **Task type**: filters by deals that have tasks with given type, where each deal has a unique task types title.\n",
    "    - default is no specified task type; input here name of task type you wish to filter by.\n",
    "    \n",
    "- **Sort by**: drop down button to order by Title, Value, Created date, Primary contact first name, Primary contact organization name, and next task due date **in this order**: drop down button to order by either ascending or descending order.\n",
    "    - Title: orders projects alphabetically by their given deal title name.\n",
    "    - Value: orders project deal value numerically \n",
    "    - Created date: orders projects chronologically by their creation date (the date the deal was created).\n",
    "    - Primary contact first name: orders projects alphabetically by the primary contact's first name.\n",
    "    - Primary contact organization name: orders projects alphabetically by the primary contact's organization name\n",
    "    - Next task due date: orders projects chronologically based on the next task due date, mm/dd/yyyy, first. Then it appends projects with no next task. Lastly,  deals with overdue tasks are appended. If project task dates are the same, it will order by their deal id.\n",
    "    \n",
    "- **Created** : filters projects by dates Before/After they were created\n",
    "    - **Before**: filters projects that were created before a selected date\n",
    "    - **After** : filters projects that were created after a selected date\n",
    "        - The **Before** and **After** filters have the following button options:\n",
    "            - drop down option to select a day by calendar date\n",
    "            - increment button option where you can select the month, day, or year and increment up or down by a value of 1. month and day start at 01, and year starts at the current year, 2020.\n",
    "            - text input option to input the mm/dd/yyyy by highlighting the field you wish to fill out.\n",
    "            \n",
    "- **Updated** : filters projects by dates Before/After they were updated\n",
    "    - **Before**: filters projects that were updated before a selected date\n",
    "    - **After** : filters projects that were updated after a selected date\n",
    "        - The **Before** and **After** filters have the following button options:\n",
    "            - drop down option to select a day by calendar date\n",
    "            - increment button option where you can select the month, day, or year and increment up or down by a value of 1. month and day start at 01, and year starts at the current year, 2020.\n",
    "            - text input option to input the mm/dd/yyyy by highlighting the field you wish to fill out.\n",
    "\n",
    "- **File Name** : text input button that will export the data via .CSV format\n",
    "   - output.csv is the default name of the file that will be exported.\n",
    "   - the name of the file can be changed to anything .CSV appropriate.\n",
    "   "
   ]
  },
  {
   "cell_type": "markdown",
   "metadata": {},
   "source": [
    "## UI Usage\n",
    "Interact with buttons based on criteria you wish to set for the desired output data. Once criteria is chosen, click the ``` Get .CSV report  ``` button to to run the UI and generate the .CSV file. The .CSV file will be saved with the default name provided unless changed."
   ]
  },
  {
   "cell_type": "code",
   "execution_count": 2,
   "metadata": {},
   "outputs": [
    {
     "data": {
      "application/vnd.jupyter.widget-view+json": {
       "model_id": "3eedb33ce5dc4d10a0c375e6af566493",
       "version_major": 2,
       "version_minor": 0
      },
      "text/plain": [
       "VBox(children=(Box(children=(Dropdown(description='Search:', layout=Layout(width='15em'), options=(('All', 'al…"
      ]
     },
     "metadata": {},
     "output_type": "display_data"
    }
   ],
   "source": [
    "# fully displays all widgets of the UI\n",
    "# The UI controls (widgets) can be manipulated interactively and the function will be called based by the criteria chosen.\n",
    "w.full_display"
   ]
  },
  {
   "cell_type": "markdown",
   "metadata": {},
   "source": [
    "\n"
   ]
  }
 ],
 "metadata": {
  "kernelspec": {
   "display_name": "Python 3",
   "language": "python",
   "name": "python3"
  },
  "language_info": {
   "codemirror_mode": {
    "name": "ipython",
    "version": 3
   },
   "file_extension": ".py",
   "mimetype": "text/x-python",
   "name": "python",
   "nbconvert_exporter": "python",
   "pygments_lexer": "ipython3",
   "version": "3.8.2"
  }
 },
 "nbformat": 4,
 "nbformat_minor": 4
}
