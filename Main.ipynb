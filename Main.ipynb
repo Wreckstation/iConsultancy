{
 "cells": [
  {
   "cell_type": "code",
   "execution_count": 1,
   "metadata": {},
   "outputs": [],
   "source": [
    "import iConsultancy.widgets as w"
   ]
  },
  {
   "cell_type": "code",
   "execution_count": 2,
   "metadata": {},
   "outputs": [
    {
     "data": {
      "application/vnd.jupyter.widget-view+json": {
       "model_id": "638d844912f146d99195f2c033e8e888",
       "version_major": 2,
       "version_minor": 0
      },
      "text/plain": [
       "VBox(children=(Box(children=(Dropdown(description='Search:', options=(('All', 'all'), ('Title', 'title'), ('Co…"
      ]
     },
     "metadata": {},
     "output_type": "display_data"
    }
   ],
   "source": [
    "w.full_display"
   ]
  },
  {
   "cell_type": "markdown",
   "metadata": {},
   "source": [
    "filters[search]\n",
    "string\n",
    "\n",
    "Search text to use with search_field parameter.\n",
    "filters[search_field]\n",
    "string\n",
    "\n",
    "Field to search for. See available values.\n",
    "filters[title]\n",
    "string\n",
    "\n",
    "Filter by deal's title\n",
    "filters[stage]\n",
    "int32\n",
    "\n",
    "Filter by deal's stage\n",
    "filters[group]\n",
    "int32\n",
    "\n",
    "Filter by deal's pipeline\n",
    "filters[status]\n",
    "int32\n",
    "\n",
    "Filter by deal's status. See available values.\n",
    "filters[owner]\n",
    "int32\n",
    "\n",
    "Filter by deal's owner\n",
    "filters[nextdate_range]\n",
    "string\n",
    "\n",
    "Filter by deal's tasks due dates. See available values.\n",
    "filters[tag]\n",
    "string\n",
    "\n",
    "Filter by tag names associated with deal's primary contact. See available values.\n",
    "filters[tasktype]\n",
    "string\n",
    "\n",
    "Filter by deals that have tasks with given type\n",
    "filters[created_before]\n",
    "date\n",
    "\n",
    "Returns deals that are created less than given date\n",
    "filters[created_after]\n",
    "date\n",
    "\n",
    "Returns deals that are created greater than or equal to given date\n",
    "filters[updated_before]\n",
    "date\n",
    "\n",
    "Returns deals that are updated less than given date\n",
    "filters[updated_after]\n",
    "date\n",
    "\n",
    "Returns deals that are updated greater than or equal to given date\n",
    "filters[organization]\n",
    "int32\n",
    "\n",
    "Filter by deal's primary contact's organization's id\n",
    "filters[minimum_value]\n",
    "int32\n",
    "\n",
    "In USD with dollar portion. Returns deals whose values are greater than or equal to given value\n",
    "filters[maximum_value]\n",
    "int32\n",
    "\n",
    "In USD with dollar portion. Returns deals whose values are less than or equal to given value\n",
    "filters[score_greater_than]\n",
    "string\n",
    "\n",
    "In a format of <score_id>:<score_value>. Returns deals whose score value is greater than given value\n",
    "filters[score_less_than]\n",
    "string\n",
    "\n",
    "In a format of <score_id>:<score_value>. Returns deals whose score value is less than given value\n",
    "filters[score]\n",
    "string\n",
    "\n",
    "In a format of <score_id>:<score_value>. Returns deals whose score value is equal to given value\n",
    "orders[title]\n",
    "string\n",
    "\n",
    "Order by deal's title.\n",
    "orders[value]\n",
    "string\n",
    "\n",
    "Order by deal's value.\n",
    "orders[cdate]\n",
    "string\n",
    "\n",
    "Order by deal's created date.\n",
    "orders[contact_name]\n",
    "string\n",
    "\n",
    "Order by deal's primary contact's first name.\n",
    "orders[contact_orgname]\n",
    "string\n",
    "\n",
    "Order by deal's primary contact's organization name.\n",
    "orders[next-action]\n",
    "string\n",
    "\n",
    "Order by deal's next task's due date first. Then append deals with no next task. Lastly append deals with overdue tasks. If dates are the same, order by deal's id.\n"
   ]
  }
 ],
 "metadata": {
  "kernelspec": {
   "display_name": "Python 3",
   "language": "python",
   "name": "python3"
  },
  "language_info": {
   "codemirror_mode": {
    "name": "ipython",
    "version": 3
   },
   "file_extension": ".py",
   "mimetype": "text/x-python",
   "name": "python",
   "nbconvert_exporter": "python",
   "pygments_lexer": "ipython3",
   "version": "3.8.0"
  }
 },
 "nbformat": 4,
 "nbformat_minor": 4
}
