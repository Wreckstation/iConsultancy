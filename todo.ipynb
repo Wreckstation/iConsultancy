{
 "cells": [
  {
   "cell_type": "markdown",
   "metadata": {},
   "source": [
    "| Filter| Data Type | Status| Description|\n",
    "| -- | ---- | ---- | ---------|\n",
    "| filters[search]| string | complete| Search text to use with search_field parameter.|\n",
    "| filters[search_field]| string | complete | Field to search for. See available values.|\n",
    "| filters[title] | string | made redundant by search and search_field | Filter by deal's title |\n",
    "| filters[stage] | int32 | made redundant by search and search_field | Filter by deal's stage |\n",
    "| filters[group] | int32 | complete | Filter by deal's pipeline |\n",
    "| filters[status] | int32 | complete | Filter by deal's status. See available values. | \n",
    "| filters[owner] | int32 | complete | Filter by deal's owner |\n",
    "| filters[nextdate_range] | string | complete | Filter by deal's tasks due dates. See available values. |\n",
    "| filters[tag] | string | complete | Filter by tag names associated with deal's primary contact. See available values. |\n",
    "| filters[tasktype] | string | complete | Filter by deals that have tasks with given type |\n",
    "| filters[created_before] | date | complete | Returns deals that are created less than given date |\n",
    "| filters[created_after] | date | complete | Returns deals that are created greater than or equal to given date|\n",
    "| filters[updated_before] | date | complete | Returns deals that are updated less than given date|\n",
    "| filters[updated_after] | date | complete | Returns deals that are updated greater than or equal to given date |\n",
    "|filters[organization] | int32 | redundant | Filter by deal's primary contact's organization's id |\n",
    "| filters[minimum_value] | int32 | complete | In USD with dollar portion. Returns deals whose values are greater than or equal to given value |\n",
    "| filters[maximum_value] |int32 | complete | In USD with dollar portion. Returns deals whose values are less than or equal to given value |\n",
    "|filters[score_greater_than] | string | complete | In a format of <score_id>:<score_value>. Returns deals whose score value is greater than given value |\n",
    "| filters[score_less_than] | string | complete | In a format of <score_id>:<score_value>. Returns deals whose score value is less than given value |\n",
    "| filters[score] | string | complete | In a format of <score_id>:<score_value>. Returns deals whose score value is equal to given value |\n",
    "\n",
    "| Sort | Data Type | Status| Description|\n",
    "| -- | ---- | ---- | ---------|\n",
    "| orders[title] | string | | Order by deal's title. |\n",
    "| orders[value] | string | | Order by deal's value. |\n",
    "| orders[cdate] | string | | Order by deal's created date. |\n",
    "| orders[contact_name] | string | | Order by deal's primary contact's first name. |\n",
    "| orders[contact_orgname] | string | | Order by deal's primary contact's organization name. |\n",
    "| orders[next-action] | string | | Order by deal's next task's due date first. Then append deals with no next task. Lastly append deals with overdue tasks. If dates are the same, order by deal's id.|"
   ]
  },
  {
   "cell_type": "markdown",
   "metadata": {},
   "source": [
    "# MORE TODOs:\n",
    "* check server response for error codes and spit out fitting message\n",
    "* limit, offset\n",
    "* make search only show up if search_field is something other than \"All\""
   ]
  },
  {
   "cell_type": "code",
   "execution_count": null,
   "metadata": {},
   "outputs": [],
   "source": []
  }
 ],
 "metadata": {
  "kernelspec": {
   "display_name": "Python 3",
   "language": "python",
   "name": "python3"
  },
  "language_info": {
   "codemirror_mode": {
    "name": "ipython",
    "version": 3
   },
   "file_extension": ".py",
   "mimetype": "text/x-python",
   "name": "python",
   "nbconvert_exporter": "python",
   "pygments_lexer": "ipython3",
   "version": "3.8.0"
  }
 },
 "nbformat": 4,
 "nbformat_minor": 4
}
